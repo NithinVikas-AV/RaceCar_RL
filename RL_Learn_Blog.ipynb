{
 "cells": [
  {
   "cell_type": "markdown",
   "id": "643613a2",
   "metadata": {},
   "source": [
    "## **Links**"
   ]
  },
  {
   "cell_type": "code",
   "execution_count": 6,
   "id": "652b1193",
   "metadata": {},
   "outputs": [],
   "source": [
    "# https://gymnasium.farama.org/introduction/basic_usage/"
   ]
  },
  {
   "cell_type": "markdown",
   "id": "e33fb301",
   "metadata": {},
   "source": [
    "## **Libraries**"
   ]
  },
  {
   "cell_type": "code",
   "execution_count": 13,
   "id": "56879b6f",
   "metadata": {},
   "outputs": [],
   "source": [
    "import gymnasium as gym"
   ]
  },
  {
   "cell_type": "markdown",
   "id": "c877f8db",
   "metadata": {},
   "source": [
    "## **All Environements**"
   ]
  },
  {
   "cell_type": "code",
   "execution_count": 21,
   "id": "c1f1f1b8",
   "metadata": {},
   "outputs": [
    {
     "name": "stdout",
     "output_type": "stream",
     "text": [
      "===== classic_control =====\n",
      "Acrobot-v1             CartPole-v0            CartPole-v1\n",
      "MountainCar-v0         MountainCarContinuous-v0 Pendulum-v1\n",
      "===== phys2d =====\n",
      "phys2d/CartPole-v0     phys2d/CartPole-v1     phys2d/Pendulum-v0\n",
      "===== box2d =====\n",
      "BipedalWalker-v3       BipedalWalkerHardcore-v3 CarRacing-v3\n",
      "LunarLander-v3         LunarLanderContinuous-v3\n",
      "===== toy_text =====\n",
      "Blackjack-v1           CliffWalking-v1        CliffWalkingSlippery-v1\n",
      "FrozenLake-v1          FrozenLake8x8-v1       Taxi-v3\n",
      "===== tabular =====\n",
      "tabular/Blackjack-v0   tabular/CliffWalking-v0\n",
      "===== None =====\n",
      "Ant-v2                 Ant-v3                 GymV21Environment-v0\n",
      "GymV26Environment-v0   HalfCheetah-v2         HalfCheetah-v3\n",
      "Hopper-v2              Hopper-v3              Humanoid-v2\n",
      "Humanoid-v3            HumanoidStandup-v2     InvertedDoublePendulum-v2\n",
      "InvertedPendulum-v2    Pusher-v2              Reacher-v2\n",
      "Swimmer-v2             Swimmer-v3             Walker2d-v2\n",
      "Walker2d-v3\n",
      "===== mujoco =====\n",
      "Ant-v4                 Ant-v5                 HalfCheetah-v4\n",
      "HalfCheetah-v5         Hopper-v4              Hopper-v5\n",
      "Humanoid-v4            Humanoid-v5            HumanoidStandup-v4\n",
      "HumanoidStandup-v5     InvertedDoublePendulum-v4 InvertedDoublePendulum-v5\n",
      "InvertedPendulum-v4    InvertedPendulum-v5    Pusher-v4\n",
      "Pusher-v5              Reacher-v4             Reacher-v5\n",
      "Swimmer-v4             Swimmer-v5             Walker2d-v4\n",
      "Walker2d-v5\n"
     ]
    }
   ],
   "source": [
    "gym.pprint_registry()"
   ]
  },
  {
   "cell_type": "markdown",
   "id": "fd55c329",
   "metadata": {},
   "source": [
    "#### Loading an Environment"
   ]
  },
  {
   "cell_type": "code",
   "execution_count": null,
   "id": "34dcd5e3",
   "metadata": {},
   "outputs": [],
   "source": [
    "# Create a simple environment perfect for beginners\n",
    "env = gym.make('CartPole-v1')\n",
    "\n",
    "# The CartPole environment: balance a pole on a moving cart\n",
    "# - Simple but not trivial\n",
    "# - Fast training\n",
    "# - Clear success/failure criteria"
   ]
  },
  {
   "cell_type": "markdown",
   "id": "d35501b4",
   "metadata": {},
   "source": [
    "#### Details About the Environment"
   ]
  },
  {
   "cell_type": "code",
   "execution_count": 45,
   "id": "9027e8c5",
   "metadata": {},
   "outputs": [
    {
     "data": {
      "text/plain": [
       "EnvSpec(id='CartPole-v1', entry_point='gymnasium.envs.classic_control.cartpole:CartPoleEnv', reward_threshold=475.0, nondeterministic=False, max_episode_steps=500, order_enforce=True, disable_env_checker=False, kwargs={}, namespace=None, name='CartPole', version=1, additional_wrappers=(), vector_entry_point='gymnasium.envs.classic_control.cartpole:CartPoleVectorEnv')"
      ]
     },
     "execution_count": 45,
     "metadata": {},
     "output_type": "execute_result"
    }
   ],
   "source": [
    "gym.spec('CartPole-v1')"
   ]
  },
  {
   "cell_type": "markdown",
   "id": "a27587d4",
   "metadata": {},
   "source": [
    "## **CartPole-v1** --> No Agent / Reinforcement Learning Algorithm"
   ]
  },
  {
   "cell_type": "markdown",
   "id": "ce6b643f",
   "metadata": {},
   "source": [
    "### Run one episode ###"
   ]
  },
  {
   "cell_type": "code",
   "execution_count": 47,
   "id": "0eda8274",
   "metadata": {},
   "outputs": [
    {
     "name": "stdout",
     "output_type": "stream",
     "text": [
      "Starting observation: [ 0.01034128  0.01915979 -0.04996081  0.04981121]\n",
      "Episode finished! Total reward: 21.0\n"
     ]
    }
   ],
   "source": [
    "# Run `pip install \"gymnasium[classic-control]\"` for this example.\n",
    "import gymnasium as gym\n",
    "\n",
    "# Create our training environment - a cart with a pole that needs balancing\n",
    "env = gym.make(\"CartPole-v1\", render_mode=\"human\")\n",
    "\n",
    "# Reset environment to start a new episode\n",
    "observation, info = env.reset()\n",
    "# observation: what the agent can \"see\" - cart position, velocity, pole angle, etc.\n",
    "# info: extra debugging information (usually not needed for basic learning)\n",
    "\n",
    "print(f\"Starting observation: {observation}\")\n",
    "# Example output: [ 0.01234567 -0.00987654  0.02345678  0.01456789]\n",
    "# [cart_position, cart_velocity, pole_angle, pole_angular_velocity]\n",
    "\n",
    "episode_over = False\n",
    "total_reward = 0\n",
    "\n",
    "while not episode_over:\n",
    "    # Choose an action: 0 = push cart left, 1 = push cart right\n",
    "    action = env.action_space.sample()  # Random action for now - real agents will be smarter!\n",
    "\n",
    "    # Take the action and see what happens\n",
    "    observation, reward, terminated, truncated, info = env.step(action)\n",
    "\n",
    "    # reward: +1 for each step the pole stays upright\n",
    "    # terminated: True if pole falls too far (agent failed)\n",
    "    # truncated: True if we hit the time limit (500 steps)\n",
    "\n",
    "    total_reward += reward\n",
    "    episode_over = terminated or truncated\n",
    "\n",
    "print(f\"Episode finished! Total reward: {total_reward}\")\n",
    "env.close()"
   ]
  },
  {
   "cell_type": "markdown",
   "id": "cf8b86e3",
   "metadata": {},
   "source": [
    "### Run Multiple episode ###"
   ]
  },
  {
   "cell_type": "code",
   "execution_count": null,
   "id": "f0171440",
   "metadata": {},
   "outputs": [
    {
     "name": "stdout",
     "output_type": "stream",
     "text": [
      "\n",
      "Episode 1 starting observation: [-0.0422439   0.00203498  0.01007657  0.01762012]\n",
      "Episode 1 finished! Total reward: 19.0\n",
      "\n",
      "Episode 2 starting observation: [ 0.0424217   0.0466012  -0.02559126  0.03505811]\n",
      "Episode 2 finished! Total reward: 13.0\n",
      "\n",
      "Episode 3 starting observation: [-0.01557675  0.00632884  0.02194342  0.02993113]\n",
      "Episode 3 finished! Total reward: 11.0\n",
      "\n",
      "Episode 4 starting observation: [ 0.04520863 -0.04902691  0.00866072 -0.01440084]\n",
      "Episode 4 finished! Total reward: 14.0\n",
      "\n",
      "Episode 5 starting observation: [ 0.04083452 -0.04254315  0.02250591 -0.02214292]\n",
      "Episode 5 finished! Total reward: 21.0\n",
      "\n",
      "Episode 6 starting observation: [0.0010304  0.01751008 0.04604509 0.01911255]\n",
      "Episode 6 finished! Total reward: 10.0\n",
      "\n",
      "Episode 7 starting observation: [ 0.03925148 -0.00691995 -0.03006944  0.04952499]\n",
      "Episode 7 finished! Total reward: 23.0\n",
      "\n",
      "Episode 8 starting observation: [-0.04645776  0.0202574  -0.03730197  0.02882828]\n",
      "Episode 8 finished! Total reward: 52.0\n",
      "\n",
      "Episode 9 starting observation: [-0.02354621  0.02892752 -0.04968056 -0.03628744]\n",
      "Episode 9 finished! Total reward: 12.0\n",
      "\n",
      "Episode 10 starting observation: [ 0.0091934  -0.03340498 -0.0440365  -0.0479099 ]\n",
      "Episode 10 finished! Total reward: 59.0\n",
      "\n",
      "Episode 11 starting observation: [ 0.04126671 -0.04658546  0.01373233 -0.01457468]\n",
      "Episode 11 finished! Total reward: 12.0\n",
      "\n",
      "Episode 12 starting observation: [ 0.04720265  0.00257886 -0.00711975  0.0390847 ]\n",
      "Episode 12 finished! Total reward: 17.0\n",
      "\n",
      "Episode 13 starting observation: [ 0.00306696 -0.01584086 -0.02806711  0.01181708]\n",
      "Episode 13 finished! Total reward: 10.0\n",
      "\n",
      "Episode 14 starting observation: [-0.02888361  0.03890534 -0.01821228 -0.00117445]\n",
      "Episode 14 finished! Total reward: 24.0\n",
      "\n",
      "Episode 15 starting observation: [ 0.02138869 -0.04298496  0.04155291 -0.00197803]\n",
      "Episode 15 finished! Total reward: 13.0\n",
      "\n",
      "Episode 16 starting observation: [-0.03153823 -0.03658262 -0.04874283  0.04834059]\n",
      "Episode 16 finished! Total reward: 37.0\n",
      "\n",
      "Episode 17 starting observation: [-0.00471649 -0.03960075 -0.01222176  0.01506492]\n",
      "Episode 17 finished! Total reward: 35.0\n",
      "\n",
      "Episode 18 starting observation: [ 0.00447377  0.04966112 -0.00607266 -0.02613086]\n",
      "Episode 18 finished! Total reward: 14.0\n",
      "\n",
      "Episode 19 starting observation: [ 0.04598007 -0.03455541 -0.03143935 -0.00507165]\n",
      "Episode 19 finished! Total reward: 42.0\n",
      "\n",
      "Episode 20 starting observation: [ 0.00887588 -0.03519628 -0.02628679 -0.01866345]\n",
      "Episode 20 finished! Total reward: 11.0\n"
     ]
    }
   ],
   "source": [
    "# Run `pip install \"gymnasium[classic-control]\"` for this example.\n",
    "import gymnasium as gym\n",
    "\n",
    "# Create our training environment - a cart with a pole that needs balancing\n",
    "env = gym.make(\"CartPole-v1\", render_mode=\"human\") # render_mode=None Fastest for training. \n",
    "\n",
    "num_episodes = 20  # 🔹 run multiple episodes\n",
    "\n",
    "for episode in range(num_episodes):\n",
    "    # Reset environment to start a new episode\n",
    "    observation, info = env.reset()\n",
    "    print(f\"\\nEpisode {episode + 1} starting observation: {observation}\")\n",
    "\n",
    "    episode_over = False\n",
    "    total_reward = 0\n",
    "\n",
    "    while not episode_over:\n",
    "        # Choose an action: 0 = push cart left, 1 = push cart right\n",
    "        action = env.action_space.sample()  # Random action for now - real agents will be smarter!\n",
    "\n",
    "        # Take the action and see what happens\n",
    "        observation, reward, terminated, truncated, info = env.step(action)\n",
    "\n",
    "        total_reward += reward\n",
    "        episode_over = terminated or truncated\n",
    "\n",
    "    print(f\"Episode {episode + 1} finished! Total reward: {total_reward}\")\n",
    "\n",
    "env.close()\n"
   ]
  },
  {
   "cell_type": "markdown",
   "id": "e8fc28e7",
   "metadata": {},
   "source": [
    "## **Training An Q-Learning Agent**"
   ]
  },
  {
   "cell_type": "markdown",
   "id": "eb3fc4f2",
   "metadata": {},
   "source": [
    "#### Building Q-Learning Agent --> BlackJack Game"
   ]
  },
  {
   "cell_type": "code",
   "execution_count": 73,
   "id": "7b8c517d",
   "metadata": {},
   "outputs": [],
   "source": [
    "from collections import defaultdict\n",
    "import gymnasium as gym\n",
    "import numpy as np\n",
    "\n",
    "\n",
    "class BlackjackAgent:\n",
    "    def __init__(\n",
    "        self,\n",
    "        env: gym.Env,\n",
    "        learning_rate: float,\n",
    "        initial_epsilon: float,\n",
    "        epsilon_decay: float,\n",
    "        final_epsilon: float,\n",
    "        discount_factor: float = 0.95,\n",
    "    ):\n",
    "        \"\"\"Initialize a Q-Learning agent.\n",
    "\n",
    "        Args:\n",
    "            env: The training environment\n",
    "            learning_rate: How quickly to update Q-values (0-1)\n",
    "            initial_epsilon: Starting exploration rate (usually 1.0)\n",
    "            epsilon_decay: How much to reduce epsilon each episode\n",
    "            final_epsilon: Minimum exploration rate (usually 0.1)\n",
    "            discount_factor: How much to value future rewards (0-1)\n",
    "        \"\"\"\n",
    "        self.env = env\n",
    "\n",
    "        # Q-table: maps (state, action) to expected reward\n",
    "        # defaultdict automatically creates entries with zeros for new states\n",
    "        self.q_values = defaultdict(lambda: np.zeros(env.action_space.n))\n",
    "\n",
    "        self.lr = learning_rate\n",
    "        self.discount_factor = discount_factor  # How much we care about future rewards\n",
    "\n",
    "        # Exploration parameters\n",
    "        self.epsilon = initial_epsilon\n",
    "        self.epsilon_decay = epsilon_decay\n",
    "        self.final_epsilon = final_epsilon\n",
    "\n",
    "        # Track learning progress\n",
    "        self.training_error = []\n",
    "\n",
    "    def get_action(self, obs: tuple[int, int, bool]) -> int:\n",
    "        \"\"\"Choose an action using epsilon-greedy strategy.\n",
    "\n",
    "        Returns:\n",
    "            action: 0 (stand) or 1 (hit)\n",
    "        \"\"\"\n",
    "        # With probability epsilon: explore (random action)\n",
    "        if np.random.random() < self.epsilon:\n",
    "            return self.env.action_space.sample()\n",
    "\n",
    "        # With probability (1-epsilon): exploit (best known action)\n",
    "        else:\n",
    "            return int(np.argmax(self.q_values[obs]))\n",
    "\n",
    "    def update(\n",
    "        self,\n",
    "        obs: tuple[int, int, bool],\n",
    "        action: int,\n",
    "        reward: float,\n",
    "        terminated: bool,\n",
    "        next_obs: tuple[int, int, bool],\n",
    "    ):\n",
    "        \"\"\"Update Q-value based on experience.\n",
    "\n",
    "        This is the heart of Q-learning: learn from (state, action, reward, next_state)\n",
    "        \"\"\"\n",
    "        # What's the best we could do from the next state?\n",
    "        # (Zero if episode terminated - no future rewards possible)\n",
    "        future_q_value = (not terminated) * np.max(self.q_values[next_obs])\n",
    "\n",
    "        # What should the Q-value be? (Bellman equation)\n",
    "        target = reward + self.discount_factor * future_q_value\n",
    "\n",
    "        # How wrong was our current estimate?\n",
    "        temporal_difference = target - self.q_values[obs][action]\n",
    "\n",
    "        # Update our estimate in the direction of the error\n",
    "        # Learning rate controls how big steps we take\n",
    "        self.q_values[obs][action] = (\n",
    "            self.q_values[obs][action] + self.lr * temporal_difference\n",
    "        )\n",
    "\n",
    "        # Track learning progress (useful for debugging)\n",
    "        self.training_error.append(temporal_difference)\n",
    "\n",
    "    def decay_epsilon(self):\n",
    "        \"\"\"Reduce exploration rate after each episode.\"\"\"\n",
    "        self.epsilon = max(self.final_epsilon, self.epsilon - self.epsilon_decay)"
   ]
  },
  {
   "cell_type": "markdown",
   "id": "08501070",
   "metadata": {},
   "source": [
    "#### Hyperparameters & Agent Initialization"
   ]
  },
  {
   "cell_type": "code",
   "execution_count": 81,
   "id": "6f0507c2",
   "metadata": {},
   "outputs": [
    {
     "name": "stderr",
     "output_type": "stream",
     "text": [
      "d:\\SEM 5\\ML\\Package\\venv\\Lib\\site-packages\\gymnasium\\envs\\registration.py:728: UserWarning: \u001b[33mWARN: The environment is being initialised with render_mode='ansi' that is not in the possible render_modes (['human', 'rgb_array']).\u001b[0m\n",
      "  logger.warn(\n"
     ]
    }
   ],
   "source": [
    "# Training hyperparameters\n",
    "learning_rate = 0.01        # How fast to learn (higher = faster but less stable)\n",
    "n_episodes = 100_0000        # Number of hands to practice\n",
    "start_epsilon = 1.0         # Start with 100% random actions\n",
    "epsilon_decay = start_epsilon / (n_episodes / 2)  # Reduce exploration over time\n",
    "final_epsilon = 0.1         # Always keep some exploration\n",
    "\n",
    "# Create environment and agent\n",
    "env = gym.make(\"Blackjack-v1\", sab=False, render_mode=\"ansi\")\n",
    "env = gym.wrappers.RecordEpisodeStatistics(env, buffer_length=n_episodes)\n",
    "\n",
    "agent = BlackjackAgent(\n",
    "    env=env,\n",
    "    learning_rate=learning_rate,\n",
    "    initial_epsilon=start_epsilon,\n",
    "    epsilon_decay=epsilon_decay,\n",
    "    final_epsilon=final_epsilon,\n",
    ")"
   ]
  },
  {
   "cell_type": "markdown",
   "id": "d6adde40",
   "metadata": {},
   "source": [
    "#### The Training Loop"
   ]
  },
  {
   "cell_type": "code",
   "execution_count": 82,
   "id": "5e099b32",
   "metadata": {},
   "outputs": [
    {
     "name": "stderr",
     "output_type": "stream",
     "text": [
      "100%|██████████| 1000000/1000000 [02:22<00:00, 7003.42it/s]\n"
     ]
    }
   ],
   "source": [
    "from tqdm import tqdm  # Progress bar\n",
    "\n",
    "for episode in tqdm(range(n_episodes)):\n",
    "    # Start a new hand\n",
    "    obs, info = env.reset()\n",
    "    done = False\n",
    "\n",
    "    # Play one complete hand\n",
    "    while not done:\n",
    "        # Agent chooses action (initially random, gradually more intelligent)\n",
    "        action = agent.get_action(obs)\n",
    "\n",
    "        # Take action and observe result\n",
    "        next_obs, reward, terminated, truncated, info = env.step(action)\n",
    "\n",
    "        # Learn from this experience\n",
    "        agent.update(obs, action, reward, terminated, next_obs)\n",
    "\n",
    "        # Move to next state\n",
    "        done = terminated or truncated\n",
    "        obs = next_obs\n",
    "\n",
    "    # Reduce exploration rate (agent becomes less random over time)\n",
    "    agent.decay_epsilon()"
   ]
  },
  {
   "cell_type": "markdown",
   "id": "2ea16dcb",
   "metadata": {},
   "source": [
    "#### Analyzing Training Results"
   ]
  },
  {
   "cell_type": "code",
   "execution_count": 83,
   "id": "c70bb93d",
   "metadata": {},
   "outputs": [
    {
     "data": {
      "image/png": "[encoded data removed]",
      "text/plain": [
       "<Figure size 1200x500 with 3 Axes>"
      ]
     },
     "metadata": {},
     "output_type": "display_data"
    }
   ],
   "source": [
    "from matplotlib import pyplot as plt\n",
    "\n",
    "def get_moving_avgs(arr, window, convolution_mode):\n",
    "    \"\"\"Compute moving average to smooth noisy data.\"\"\"\n",
    "    return np.convolve(\n",
    "        np.array(arr).flatten(),\n",
    "        np.ones(window),\n",
    "        mode=convolution_mode\n",
    "    ) / window\n",
    "\n",
    "# Smooth over a 500-episode window\n",
    "rolling_length = 500\n",
    "fig, axs = plt.subplots(ncols=3, figsize=(12, 5))\n",
    "\n",
    "# Episode rewards (win/loss performance)\n",
    "axs[0].set_title(\"Episode rewards\")\n",
    "reward_moving_average = get_moving_avgs(\n",
    "    env.return_queue,\n",
    "    rolling_length,\n",
    "    \"valid\"\n",
    ")\n",
    "axs[0].plot(range(len(reward_moving_average)), reward_moving_average)\n",
    "axs[0].set_ylabel(\"Average Reward\")\n",
    "axs[0].set_xlabel(\"Episode\")\n",
    "\n",
    "# Episode lengths (how many actions per hand)\n",
    "axs[1].set_title(\"Episode lengths\")\n",
    "length_moving_average = get_moving_avgs(\n",
    "    env.length_queue,\n",
    "    rolling_length,\n",
    "    \"valid\"\n",
    ")\n",
    "axs[1].plot(range(len(length_moving_average)), length_moving_average)\n",
    "axs[1].set_ylabel(\"Average Episode Length\")\n",
    "axs[1].set_xlabel(\"Episode\")\n",
    "\n",
    "# Training error (how much we're still learning)\n",
    "axs[2].set_title(\"Training Error\")\n",
    "training_error_moving_average = get_moving_avgs(\n",
    "    agent.training_error,\n",
    "    rolling_length,\n",
    "    \"same\"\n",
    ")\n",
    "axs[2].plot(range(len(training_error_moving_average)), training_error_moving_average)\n",
    "axs[2].set_ylabel(\"Temporal Difference Error\")\n",
    "axs[2].set_xlabel(\"Step\")\n",
    "\n",
    "plt.tight_layout()\n",
    "plt.show()"
   ]
  },
  {
   "cell_type": "markdown",
   "id": "769eb10b",
   "metadata": {},
   "source": [
    "#### Testing Your Trained Agent"
   ]
  },
  {
   "cell_type": "code",
   "execution_count": 91,
   "id": "0c7f4464",
   "metadata": {},
   "outputs": [
    {
     "name": "stdout",
     "output_type": "stream",
     "text": [
      "Test Results over 1000 episodes:\n",
      "Win Rate: 45.6%\n",
      "Average Reward: -0.007\n",
      "Standard Deviation: 0.959\n"
     ]
    }
   ],
   "source": [
    "# Test the trained agent\n",
    "def test_agent(agent, env, num_episodes=1000):\n",
    "    \"\"\"Test agent performance without learning or exploration.\"\"\"\n",
    "    total_rewards = []\n",
    "\n",
    "    # Temporarily disable exploration for testing\n",
    "    old_epsilon = agent.epsilon\n",
    "    agent.epsilon = 0.0  # Pure exploitation\n",
    "\n",
    "    for _ in range(num_episodes):\n",
    "        obs, info = env.reset()\n",
    "        episode_reward = 0\n",
    "        done = False\n",
    "\n",
    "        while not done:\n",
    "            action = agent.get_action(obs)\n",
    "            obs, reward, terminated, truncated, info = env.step(action)\n",
    "            episode_reward += reward\n",
    "            done = terminated or truncated\n",
    "\n",
    "        total_rewards.append(episode_reward)\n",
    "\n",
    "    # Restore original epsilon\n",
    "    agent.epsilon = old_epsilon\n",
    "\n",
    "    win_rate = np.mean(np.array(total_rewards) > 0)\n",
    "    average_reward = np.mean(total_rewards)\n",
    "\n",
    "    print(f\"Test Results over {num_episodes} episodes:\")\n",
    "    print(f\"Win Rate: {win_rate:.1%}\")\n",
    "    print(f\"Average Reward: {average_reward:.3f}\")\n",
    "    print(f\"Standard Deviation: {np.std(total_rewards):.3f}\")\n",
    "\n",
    "# Test your agent\n",
    "test_agent(agent, env)"
   ]
  }
 ],
 "metadata": {
  "kernelspec": {
   "display_name": "venv",
   "language": "python",
   "name": "python3"
  },
  "language_info": {
   "codemirror_mode": {
    "name": "ipython",
    "version": 3
   },
   "file_extension": ".py",
   "mimetype": "text/x-python",
   "name": "python",
   "nbconvert_exporter": "python",
   "pygments_lexer": "ipython3",
   "version": "3.13.3"
  }
 },
 "nbformat": 4,
 "nbformat_minor": 5
}
